{
 "cells": [
  {
   "attachments": {},
   "cell_type": "markdown",
   "metadata": {},
   "source": [
    "# Processing Big Data - Data profiling\n",
    "\n",
    "© Explore Data Science Academy\n",
    "\n",
    "## Honour Code\n",
    "I {**ONIDAJO**, **WALE-OLAITAN**}, confirm - by submitting this document - that the solutions in this notebook are a result of my own work and that I abide by the [EDSA honour code](https://drive.google.com/file/d/1QDCjGZJ8-FmJE3bZdIQNwnJyQKPhHZBn/view?usp=sharing).\n",
    "    Non-compliance with the honour code constitutes a material breach of contract.\n",
    "\n",
    "## Context\n",
    "\n",
    "Having completed the first step - data ingestion, the data now needs to be thoroughly prepared so that it is readable, reliable and robust. As the Data Engineer in the team, this will be your responsibility. The Data Scientists are looking to you to clean this data so that model development and deployment become seamless when the data is used in a production environment. Having completed your Data Engineering course recently, your manager Gnissecorp Atadgid, asks you to create data summaries and perform checks using the six dimensions of data quality.\n",
    "\n",
    "<div align=\"center\" style=\"width: 600px; font-size: 80%; text-align: center; margin: 0 auto\">\n",
    "<img src=\"https://github.com/Explore-AI/Pictures/raw/master/data_engineering/transform/predict/DataQuality.jpg\"\n",
    "     alt=\"Data Quality\"\n",
    "     style=\"float: center; padding-bottom=0.5em\"\n",
    "     width=100%/>\n",
    "     <p><em>Figure 1. Six dimensions of data quality</em></p>\n",
    "</div>"
   ]
  },
  {
   "cell_type": "markdown",
   "metadata": {},
   "source": [
    "## Import libraries\n",
    "Below we import the libraries required to complete this section of the predict."
   ]
  },
  {
   "cell_type": "code",
   "execution_count": 1,
   "metadata": {},
   "outputs": [],
   "source": [
    "import findspark\n",
    "findspark.init()"
   ]
  },
  {
   "cell_type": "code",
   "execution_count": 2,
   "metadata": {},
   "outputs": [],
   "source": [
    "import pandas as pd\n",
    "import numpy as np\n",
    "import matplotlib.pyplot as plt\n",
    "\n",
    "from pyspark import SparkContext\n",
    "from pyspark.sql import SparkSession\n",
    "from pyspark.sql import functions as F\n",
    "from pyspark.sql.types import *\n",
    "from pyspark.sql import DataFrame\n",
    "from pyspark.sql import Window\n",
    "from datetime import datetime"
   ]
  },
  {
   "cell_type": "markdown",
   "metadata": {},
   "source": [
    "Remember that we need a `SparkContext` and `SparkSession` to interface with Spark.\n",
    "We will mostly be using the `SparkContext` to interact with RDDs \n",
    "and the `SparkSession` to interface with Python objects.\n",
    "\n",
    "> ℹ️ **Instructions** ℹ️\n",
    ">\n",
    ">Initialise a new **Spark Context** and **Session** that you will use to interface with Spark."
   ]
  },
  {
   "cell_type": "code",
   "execution_count": 3,
   "metadata": {},
   "outputs": [
    {
     "data": {
      "text/html": [
       "\n",
       "        <div>\n",
       "            <p><b>SparkContext</b></p>\n",
       "\n",
       "            <p><a href=\"http://DESKTOP-7DGKI6L:4040\">Spark UI</a></p>\n",
       "\n",
       "            <dl>\n",
       "              <dt>Version</dt>\n",
       "                <dd><code>v3.1.2</code></dd>\n",
       "              <dt>Master</dt>\n",
       "                <dd><code>local[*]</code></dd>\n",
       "              <dt>AppName</dt>\n",
       "                <dd><code>pyspark-shell</code></dd>\n",
       "            </dl>\n",
       "        </div>\n",
       "        "
      ],
      "text/plain": [
       "<SparkContext master=local[*] appName=pyspark-shell>"
      ]
     },
     "execution_count": 3,
     "metadata": {},
     "output_type": "execute_result"
    }
   ],
   "source": [
    "#TODO: Write your code here.\n",
    "spark = SparkSession.builder.enableHiveSupport().getOrCreate()\n",
    "sc = spark.sparkContext\n",
    "sc"
   ]
  },
  {
   "cell_type": "markdown",
   "metadata": {},
   "source": [
    "## Parquet files\n",
    "In the previous section of the predict, you generated parquet files to your local directory. You will be making use of these files to continue with this section of the predict. Please make sure that your parquet files are specifically for the year **1962**. Any other year used outside of **1962** will produce incorrect answers and have a negative impact on your overall predict mark.\n",
    "\n",
    "> ℹ️ **Instructions** ℹ️\n",
    ">\n",
    "> Read the parquet files stored in your directory for the year **1962** into a Spark DataFrame."
   ]
  },
  {
   "cell_type": "code",
   "execution_count": 4,
   "metadata": {},
   "outputs": [],
   "source": [
    "#TODO: Write your code here\n",
    "sixty_two_df = spark.read.parquet('../transformed_data/')"
   ]
  },
  {
   "cell_type": "code",
   "execution_count": 5,
   "metadata": {},
   "outputs": [],
   "source": [
    "stwo_df = pd.read_parquet('../transformed_data/')"
   ]
  },
  {
   "cell_type": "markdown",
   "metadata": {},
   "source": [
    "## Metadata \n",
    "\n",
    "Metadata is data containing additional information about the data itself. In the cloud storage, there is a metadata file called [`symbols_valid_meta.csv`](https://processing-big-data-predict-stocks-data.s3.eu-west-1.amazonaws.com/symbols_valid_meta.csv) that is collocated with the stock market data. You will need to download this to use when performing your data quality checks.\n",
    "\n",
    "> ℹ️ **Instructions** ℹ️\n",
    ">\n",
    "> Download the metadata from the S3 bucket and read it into a Spark DataFrame."
   ]
  },
  {
   "cell_type": "code",
   "execution_count": 6,
   "metadata": {},
   "outputs": [],
   "source": [
    "#TODO: Write your code here\n",
    "symbols_meta = spark.read.csv('../../../../Desktop/Explore/Processing Big Data/symbols_valid_meta.csv', header=True)"
   ]
  },
  {
   "cell_type": "markdown",
   "metadata": {},
   "source": [
    "## Data Accuracy\n",
    "Data accuracy is the degree to which data correctly describes a \"real world\" object or event.\n",
    "\n",
    "It is important to do checks to determine the basic integrity of the dataset; do the values fall within expected ranges?\n",
    "\n",
    "Most of the possible errors relating to data accuracy can occur at collection time. In our case, it is not possible to test the collection time accuracy, so we have to infer from ranges and summary statistics. Here you need to look closely at each field to see if its values make sense, with no strange surprises.\n",
    "\n",
    "In assessing accuracy, it is important to look into precision as well. Do you need seven decimals, or will one or two suffice?\n",
    "\n",
    "- **Measured by**: The degree to which the data mirrors the characteristics of the real-world object or objects it represents;\n",
    "- **Units**: The percentage of data entries that pass the data accuracy rules;\n",
    "- **Related to**: Validity, Uniqueness, Consistency."
   ]
  },
  {
   "cell_type": "markdown",
   "metadata": {},
   "source": [
    "> ℹ️ **Instructions** ℹ️\n",
    ">\n",
    "> Generate summary statistics to explore your data. Make sure you understand the ranges, means, extremums, and deviations found in the data set."
   ]
  },
  {
   "cell_type": "code",
   "execution_count": 7,
   "metadata": {},
   "outputs": [
    {
     "name": "stdout",
     "output_type": "stream",
     "text": [
      "root\n",
      " |-- date: string (nullable = true)\n",
      " |-- open: float (nullable = true)\n",
      " |-- high: float (nullable = true)\n",
      " |-- low: float (nullable = true)\n",
      " |-- close: float (nullable = true)\n",
      " |-- adj_close: float (nullable = true)\n",
      " |-- volume: integer (nullable = true)\n",
      " |-- stock: string (nullable = true)\n",
      "\n"
     ]
    }
   ],
   "source": [
    "sixty_two_df.printSchema()"
   ]
  },
  {
   "cell_type": "code",
   "execution_count": 8,
   "metadata": {},
   "outputs": [
    {
     "name": "stdout",
     "output_type": "stream",
     "text": [
      "+----------+-----------+-----------+----------+-----------+------------+-------+-----+\n",
      "|      date|       open|       high|       low|      close|   adj_close| volume|stock|\n",
      "+----------+-----------+-----------+----------+-----------+------------+-------+-----+\n",
      "|1962-02-19|    5.83929|   5.907375|   5.83929|    5.86332|   1.3863293|  29900|   AA|\n",
      "|1962-02-19|   5.481634|   5.528486|  5.481634|  5.5167727|   1.2804527|  32000| ARNC|\n",
      "|1962-02-19|  0.9074074| 0.91563785|0.89917696|  0.9032922|  0.16141544| 619400|   BA|\n",
      "|1962-02-19|  1.6770834|  1.6927084| 1.6614584|  1.6770834|   0.1440587| 170400|  CAT|\n",
      "|1962-02-19|        0.0|   3.578869|      20.0|   3.549107| 0.056501225| 273600|  CVX|\n",
      "|1962-02-19|0.099767394|0.099767394|0.09820853| 0.09820853| 0.037543412| 817400|  DIS|\n",
      "|1962-02-19|        0.0|    29.9375|     29.75|    29.9375|  0.49964145|   1600|  DTE|\n",
      "|1962-02-19|        0.0|   9.921875|  9.890625|   9.921875|  0.22499175|   8800|   ED|\n",
      "|1962-02-19|        0.0|  7.0833335| 7.0208335|  7.0208335|  0.91296524|  20400|   FL|\n",
      "|1962-02-19| 0.77373797|   0.777494|0.76372194|   0.767478|0.0018262818|1557500|   GE|\n",
      "|1962-02-19|        0.0|    10.9375|     10.75|    10.9375|   1.9131781|  22800|   GT|\n",
      "|1962-02-19| 0.11264618| 0.11397664|0.11264618|0.113089666| 0.006272347| 591800|  HPQ|\n",
      "|1962-02-19|       7.26|  7.2933335|  7.173333|  7.1866665|   0.5825691| 280000|  IBM|\n",
      "|1962-02-19|        0.0|   9.003848|  8.822562|   8.882991|   0.7784165|  39300|   IP|\n",
      "|1962-02-19|        0.0| 0.23206018|0.23206018| 0.23206018| 6.541049E-7|  43200|  JNJ|\n",
      "|1962-02-19| 0.24153645| 0.24348958|0.24153645| 0.24348958| 0.003923037| 345600|   KO|\n",
      "|1962-02-19|        0.0| 0.17881945|0.17621528| 0.17708333|2.1674694E-4| 460800|   MO|\n",
      "|1962-02-19|        0.0|      280.0|   276.875|    279.375|   124.94374|    600|  NAV|\n",
      "|1962-02-19|        0.0|  1.2734375|  1.265625|   1.265625| 0.012011507| 281600|   PG|\n",
      "|1962-02-19|        0.0|  1.7460938| 1.7109375|  1.7382812| 0.015494763|1657600|  XOM|\n",
      "+----------+-----------+-----------+----------+-----------+------------+-------+-----+\n",
      "only showing top 20 rows\n",
      "\n"
     ]
    }
   ],
   "source": [
    "sixty_two_df.show()"
   ]
  },
  {
   "cell_type": "code",
   "execution_count": 9,
   "metadata": {},
   "outputs": [
    {
     "data": {
      "text/html": [
       "<div>\n",
       "<style scoped>\n",
       "    .dataframe tbody tr th:only-of-type {\n",
       "        vertical-align: middle;\n",
       "    }\n",
       "\n",
       "    .dataframe tbody tr th {\n",
       "        vertical-align: top;\n",
       "    }\n",
       "\n",
       "    .dataframe thead th {\n",
       "        text-align: right;\n",
       "    }\n",
       "</style>\n",
       "<table border=\"1\" class=\"dataframe\">\n",
       "  <thead>\n",
       "    <tr style=\"text-align: right;\">\n",
       "      <th></th>\n",
       "      <th>summary</th>\n",
       "      <th>date</th>\n",
       "      <th>open</th>\n",
       "      <th>high</th>\n",
       "      <th>low</th>\n",
       "      <th>close</th>\n",
       "      <th>adj_close</th>\n",
       "      <th>volume</th>\n",
       "      <th>stock</th>\n",
       "    </tr>\n",
       "  </thead>\n",
       "  <tbody>\n",
       "    <tr>\n",
       "      <th>0</th>\n",
       "      <td>count</td>\n",
       "      <td>5106</td>\n",
       "      <td>5106</td>\n",
       "      <td>5106</td>\n",
       "      <td>5064</td>\n",
       "      <td>5106</td>\n",
       "      <td>5085</td>\n",
       "      <td>5085</td>\n",
       "      <td>5106</td>\n",
       "    </tr>\n",
       "    <tr>\n",
       "      <th>1</th>\n",
       "      <td>mean</td>\n",
       "      <td>None</td>\n",
       "      <td>1.0904873526012002</td>\n",
       "      <td>16.757624946793637</td>\n",
       "      <td>15.728619917198033</td>\n",
       "      <td>16.64199179044607</td>\n",
       "      <td>5.986642513535306</td>\n",
       "      <td>540930.2458210423</td>\n",
       "      <td>None</td>\n",
       "    </tr>\n",
       "    <tr>\n",
       "      <th>2</th>\n",
       "      <td>stddev</td>\n",
       "      <td>None</td>\n",
       "      <td>2.36445352530491</td>\n",
       "      <td>53.91407348193546</td>\n",
       "      <td>51.32292289814399</td>\n",
       "      <td>53.54677139900802</td>\n",
       "      <td>24.64637054715319</td>\n",
       "      <td>864596.2440525505</td>\n",
       "      <td>None</td>\n",
       "    </tr>\n",
       "    <tr>\n",
       "      <th>3</th>\n",
       "      <td>min</td>\n",
       "      <td>1962-01-02</td>\n",
       "      <td>0.0</td>\n",
       "      <td>0.0</td>\n",
       "      <td>0.052377883</td>\n",
       "      <td>0.053624976</td>\n",
       "      <td>4.0381454E-7</td>\n",
       "      <td>0</td>\n",
       "      <td>AA</td>\n",
       "    </tr>\n",
       "    <tr>\n",
       "      <th>4</th>\n",
       "      <td>max</td>\n",
       "      <td>1962-12-31</td>\n",
       "      <td>20.0</td>\n",
       "      <td>287.5</td>\n",
       "      <td>282.5</td>\n",
       "      <td>285.0</td>\n",
       "      <td>127.45936</td>\n",
       "      <td>19545600</td>\n",
       "      <td>XOM</td>\n",
       "    </tr>\n",
       "  </tbody>\n",
       "</table>\n",
       "</div>"
      ],
      "text/plain": [
       "  summary        date                open                high  \\\n",
       "0   count        5106                5106                5106   \n",
       "1    mean        None  1.0904873526012002  16.757624946793637   \n",
       "2  stddev        None    2.36445352530491   53.91407348193546   \n",
       "3     min  1962-01-02                 0.0                 0.0   \n",
       "4     max  1962-12-31                20.0               287.5   \n",
       "\n",
       "                  low              close          adj_close  \\\n",
       "0                5064               5106               5085   \n",
       "1  15.728619917198033  16.64199179044607  5.986642513535306   \n",
       "2   51.32292289814399  53.54677139900802  24.64637054715319   \n",
       "3         0.052377883        0.053624976       4.0381454E-7   \n",
       "4               282.5              285.0          127.45936   \n",
       "\n",
       "              volume stock  \n",
       "0               5085  5106  \n",
       "1  540930.2458210423  None  \n",
       "2  864596.2440525505  None  \n",
       "3                  0    AA  \n",
       "4           19545600   XOM  "
      ]
     },
     "execution_count": 9,
     "metadata": {},
     "output_type": "execute_result"
    }
   ],
   "source": [
    "#TODO: Write your code here\n",
    "sixty_two_df.describe().toPandas()"
   ]
  },
  {
   "cell_type": "markdown",
   "metadata": {},
   "source": [
    "> ℹ️ **Instructions** ℹ️\n",
    ">\n",
    "> Generate histograms for the six numerical attributes found in the data to understand the distribution of values.\n",
    ">\n",
    ">*You may use as many coding cells as necessary.*"
   ]
  },
  {
   "cell_type": "code",
   "execution_count": 10,
   "metadata": {},
   "outputs": [],
   "source": [
    "import pyarrow.parquet as pq\n",
    "\n",
    "df = pq.read_table(source='../transformed_data/').to_pandas()"
   ]
  },
  {
   "cell_type": "code",
   "execution_count": 11,
   "metadata": {},
   "outputs": [
    {
     "data": {
      "text/plain": [
       "array([[<AxesSubplot:title={'center':'open'}>,\n",
       "        <AxesSubplot:title={'center':'high'}>],\n",
       "       [<AxesSubplot:title={'center':'low'}>,\n",
       "        <AxesSubplot:title={'center':'close'}>],\n",
       "       [<AxesSubplot:title={'center':'adj_close'}>,\n",
       "        <AxesSubplot:title={'center':'volume'}>]], dtype=object)"
      ]
     },
     "execution_count": 11,
     "metadata": {},
     "output_type": "execute_result"
    },
    {
     "data": {
      "image/png": "[encoded data removed]",
      "text/plain": [
       "<Figure size 1440x576 with 6 Axes>"
      ]
     },
     "metadata": {
      "needs_background": "light"
     },
     "output_type": "display_data"
    }
   ],
   "source": [
    "df.hist(figsize=(20,8))"
   ]
  },
  {
   "cell_type": "code",
   "execution_count": 12,
   "metadata": {},
   "outputs": [
    {
     "data": {
      "text/plain": [
       "array([[<AxesSubplot:title={'center':'open'}>,\n",
       "        <AxesSubplot:title={'center':'high'}>],\n",
       "       [<AxesSubplot:title={'center':'low'}>,\n",
       "        <AxesSubplot:title={'center':'close'}>],\n",
       "       [<AxesSubplot:title={'center':'adj_close'}>,\n",
       "        <AxesSubplot:title={'center':'volume'}>]], dtype=object)"
      ]
     },
     "execution_count": 12,
     "metadata": {},
     "output_type": "execute_result"
    },
    {
     "data": {
      "image/png": "[encoded data removed]",
      "text/plain": [
       "<Figure size 1440x576 with 6 Axes>"
      ]
     },
     "metadata": {
      "needs_background": "light"
     },
     "output_type": "display_data"
    }
   ],
   "source": [
    "stwo_df.hist(figsize=(20,8))"
   ]
  },
  {
   "cell_type": "code",
   "execution_count": 13,
   "metadata": {},
   "outputs": [],
   "source": [
    "#TODO: Write your code here"
   ]
  },
  {
   "cell_type": "markdown",
   "metadata": {},
   "source": [
    "> ℹ️ **Instructions** ℹ️\n",
    ">\n",
    "> Investigate the **open** column to identify stocks that have open values greater than 2, and note any anomalies that you find in the data.\n",
    ">\n",
    ">*You may use as many coding cells as necessary.*"
   ]
  },
  {
   "cell_type": "code",
   "execution_count": 14,
   "metadata": {},
   "outputs": [
    {
     "name": "stdout",
     "output_type": "stream",
     "text": [
      "+----------+---------+---------+---------+---------+----------+------+-----+\n",
      "|      date|     open|     high|      low|    close| adj_close|volume|stock|\n",
      "+----------+---------+---------+---------+---------+----------+------+-----+\n",
      "|1962-02-19|  5.83929| 5.907375|  5.83929|  5.86332| 1.3863293| 29900|   AA|\n",
      "|1962-02-19| 5.481634| 5.528486| 5.481634|5.5167727| 1.2804527| 32000| ARNC|\n",
      "|1962-02-19|     7.26|7.2933335| 7.173333|7.1866665| 0.5825691|280000|  IBM|\n",
      "|1962-02-14|  5.83929|  5.83929| 5.747175|  5.80725| 1.3730713| 56500|   AA|\n",
      "|1962-02-14| 5.481634| 5.481634| 5.399644|5.4347825| 1.2614225| 60400| ARNC|\n",
      "|1962-02-14| 7.306667|7.3333335|     7.28|7.2933335|0.59121627|208000|  IBM|\n",
      "|1962-02-13|  5.85531| 5.915385|  5.85531|  5.86332| 1.3863293| 62500|   AA|\n",
      "|1962-02-13|  5.50506| 5.540199|  5.50506|5.5167727| 1.2804527| 66800| ARNC|\n",
      "|1962-02-13|7.4266667|7.4333334| 7.306667| 7.306667|0.59229714|256000|  IBM|\n",
      "|1962-02-26|  6.05556| 6.107625| 5.955435| 6.107625| 1.4440926| 82500|   AA|\n",
      "|1962-02-26|5.6924663| 5.715892| 5.598763| 5.715892| 1.3266692| 88100| ARNC|\n",
      "|1962-02-26|     7.16|7.1666665|     7.12| 7.133333|  0.578246|299200|  IBM|\n",
      "|1962-02-06| 5.915385| 5.915385|  5.82327|  5.85531| 1.3844348| 40500|   AA|\n",
      "|1962-02-06| 5.540199| 5.540199|5.4582086|  5.50506| 1.2777345| 43300| ARNC|\n",
      "|1962-02-06| 7.346667|     7.36|     7.32|7.3533335|0.59607965|256000|  IBM|\n",
      "|1962-02-02| 5.931405| 5.955435| 5.907375| 5.915385| 1.3915651| 30500|   AA|\n",
      "|1962-02-02|5.5636244| 5.598763| 5.528486| 5.540199| 1.2794067| 32600| ARNC|\n",
      "|1962-02-02|7.3933334|     7.44|     7.36|     7.44| 0.6030228|507200|  IBM|\n",
      "|1962-02-16| 5.739165|  5.83128| 5.739165|  5.83128| 1.3787535| 55900|   AA|\n",
      "|1962-02-16| 5.387931| 5.469921| 5.387931| 5.469921| 1.2695786| 59700| ARNC|\n",
      "+----------+---------+---------+---------+---------+----------+------+-----+\n",
      "only showing top 20 rows\n",
      "\n"
     ]
    }
   ],
   "source": [
    "#TODO: Write your code here\n",
    "sixty_two_df.where(F.col('open') > 2).show()"
   ]
  },
  {
   "attachments": {},
   "cell_type": "markdown",
   "metadata": {},
   "source": [
    " ## 📔️**Notes** 📔️\n",
    "\n",
    " *Use this cell to note down any potential findings.*\n",
    "\n",
    " 1. From the data, we can see that a sizable number of entries fall above the threshold of two.\n",
    " 2. From, the histogram, we can also see that there are also outliers much higher than the threshold closer to ten\n",
    "    ...\n",
    " "
   ]
  },
  {
   "cell_type": "markdown",
   "metadata": {},
   "source": [
    "> ℹ️ **Instructions** ℹ️\n",
    ">\n",
    "> Investigate **high**, **low**, **close**, and **adj_close** to determine if any stocks may be deviating from the normal ranges of the data set. Note down the stock(s) that you come across.\n",
    ">\n",
    ">*You may use as many coding cells as necessary.*"
   ]
  },
  {
   "cell_type": "code",
   "execution_count": 15,
   "metadata": {},
   "outputs": [
    {
     "name": "stdout",
     "output_type": "stream",
     "text": [
      "+----------+----+-------+-------+-------+----------+------+-----+\n",
      "|      date|open|   high|    low|  close| adj_close|volume|stock|\n",
      "+----------+----+-------+-------+-------+----------+------+-----+\n",
      "|1962-02-19| 0.0|  280.0|276.875|279.375| 124.94374|   600|  NAV|\n",
      "|1962-02-14| 0.0|276.875|273.125| 273.75| 122.42809|   800|  NAV|\n",
      "|1962-02-13| 0.0|  277.5|  275.0| 276.25| 123.54612|  1000|  NAV|\n",
      "|1962-02-26| 0.0|279.375| 276.25|279.375| 124.94374|   700|  NAV|\n",
      "|1962-02-06| 0.0|271.875|268.125| 271.25| 121.31004|  1600|  NAV|\n",
      "|1962-02-02| 0.0| 266.25| 263.75| 266.25|119.073845|   800|  NAV|\n",
      "|1962-02-16| 0.0|  277.5|274.375|  277.5| 124.10516|  1400|  NAV|\n",
      "|1962-02-27| 0.0|  280.0| 278.75|  280.0|  125.2233|   600|  NAV|\n",
      "|1962-02-12| 0.0| 276.25|274.375| 276.25| 123.54612|   700|  NAV|\n",
      "|1962-02-20| 0.0|  280.0|276.875|279.375| 124.94374|  1000|  NAV|\n",
      "|1962-02-09| 0.0|274.375|  272.5| 273.75| 122.42809|  1100|  NAV|\n",
      "|1962-02-28| 0.0|280.625| 278.75|  280.0|  125.2233|   800|  NAV|\n",
      "|1962-02-05| 0.0|  267.5|265.625| 266.25|119.073845|   700|  NAV|\n",
      "|1962-02-08| 0.0|  275.0|271.875| 273.75| 122.42809|   700|  NAV|\n",
      "|1962-02-01| 0.0|268.125|265.625| 266.25|119.073845|   900|  NAV|\n",
      "|1962-02-15| 0.0|  275.0|  272.5|274.375|122.707565|  1200|  NAV|\n",
      "|1962-02-07| 0.0|274.375|  270.0|274.375|122.707565|  1300|  NAV|\n",
      "|1962-02-23| 0.0|279.375| 276.25| 278.75| 124.66421|   600|  NAV|\n",
      "|1962-02-21| 0.0| 281.25|276.875|276.875|123.825645|  1200|  NAV|\n",
      "|1962-09-25| 0.0|225.625|224.375|225.625| 104.56268|   300|  NAV|\n",
      "+----------+----+-------+-------+-------+----------+------+-----+\n",
      "only showing top 20 rows\n",
      "\n"
     ]
    }
   ],
   "source": [
    "#TODO: Write your code here\n",
    "sixty_two_df.where(F.col('high') > 50).show()"
   ]
  },
  {
   "cell_type": "code",
   "execution_count": 16,
   "metadata": {},
   "outputs": [
    {
     "name": "stdout",
     "output_type": "stream",
     "text": [
      "+----------+----+-------+-------+-------+----------+------+-----+\n",
      "|      date|open|   high|    low|  close| adj_close|volume|stock|\n",
      "+----------+----+-------+-------+-------+----------+------+-----+\n",
      "|1962-02-19| 0.0|  280.0|276.875|279.375| 124.94374|   600|  NAV|\n",
      "|1962-02-14| 0.0|276.875|273.125| 273.75| 122.42809|   800|  NAV|\n",
      "|1962-02-13| 0.0|  277.5|  275.0| 276.25| 123.54612|  1000|  NAV|\n",
      "|1962-02-26| 0.0|279.375| 276.25|279.375| 124.94374|   700|  NAV|\n",
      "|1962-02-06| 0.0|271.875|268.125| 271.25| 121.31004|  1600|  NAV|\n",
      "|1962-02-02| 0.0| 266.25| 263.75| 266.25|119.073845|   800|  NAV|\n",
      "|1962-02-16| 0.0|  277.5|274.375|  277.5| 124.10516|  1400|  NAV|\n",
      "|1962-02-27| 0.0|  280.0| 278.75|  280.0|  125.2233|   600|  NAV|\n",
      "|1962-02-12| 0.0| 276.25|274.375| 276.25| 123.54612|   700|  NAV|\n",
      "|1962-02-20| 0.0|  280.0|276.875|279.375| 124.94374|  1000|  NAV|\n",
      "|1962-02-09| 0.0|274.375|  272.5| 273.75| 122.42809|  1100|  NAV|\n",
      "|1962-02-28| 0.0|280.625| 278.75|  280.0|  125.2233|   800|  NAV|\n",
      "|1962-02-05| 0.0|  267.5|265.625| 266.25|119.073845|   700|  NAV|\n",
      "|1962-02-08| 0.0|  275.0|271.875| 273.75| 122.42809|   700|  NAV|\n",
      "|1962-02-01| 0.0|268.125|265.625| 266.25|119.073845|   900|  NAV|\n",
      "|1962-02-15| 0.0|  275.0|  272.5|274.375|122.707565|  1200|  NAV|\n",
      "|1962-02-07| 0.0|274.375|  270.0|274.375|122.707565|  1300|  NAV|\n",
      "|1962-02-23| 0.0|279.375| 276.25| 278.75| 124.66421|   600|  NAV|\n",
      "|1962-02-21| 0.0| 281.25|276.875|276.875|123.825645|  1200|  NAV|\n",
      "|1962-09-25| 0.0|225.625|224.375|225.625| 104.56268|   300|  NAV|\n",
      "+----------+----+-------+-------+-------+----------+------+-----+\n",
      "only showing top 20 rows\n",
      "\n"
     ]
    }
   ],
   "source": [
    "sixty_two_df.where(F.col('low') > 50 ).show()"
   ]
  },
  {
   "cell_type": "code",
   "execution_count": 17,
   "metadata": {},
   "outputs": [
    {
     "name": "stdout",
     "output_type": "stream",
     "text": [
      "+----------+----+-------+-------+-------+----------+------+-----+\n",
      "|      date|open|   high|    low|  close| adj_close|volume|stock|\n",
      "+----------+----+-------+-------+-------+----------+------+-----+\n",
      "|1962-02-19| 0.0|  280.0|276.875|279.375| 124.94374|   600|  NAV|\n",
      "|1962-02-14| 0.0|276.875|273.125| 273.75| 122.42809|   800|  NAV|\n",
      "|1962-02-13| 0.0|  277.5|  275.0| 276.25| 123.54612|  1000|  NAV|\n",
      "|1962-02-26| 0.0|279.375| 276.25|279.375| 124.94374|   700|  NAV|\n",
      "|1962-02-06| 0.0|271.875|268.125| 271.25| 121.31004|  1600|  NAV|\n",
      "|1962-02-02| 0.0| 266.25| 263.75| 266.25|119.073845|   800|  NAV|\n",
      "|1962-02-16| 0.0|  277.5|274.375|  277.5| 124.10516|  1400|  NAV|\n",
      "|1962-02-27| 0.0|  280.0| 278.75|  280.0|  125.2233|   600|  NAV|\n",
      "|1962-02-12| 0.0| 276.25|274.375| 276.25| 123.54612|   700|  NAV|\n",
      "|1962-02-20| 0.0|  280.0|276.875|279.375| 124.94374|  1000|  NAV|\n",
      "|1962-02-09| 0.0|274.375|  272.5| 273.75| 122.42809|  1100|  NAV|\n",
      "|1962-02-28| 0.0|280.625| 278.75|  280.0|  125.2233|   800|  NAV|\n",
      "|1962-02-05| 0.0|  267.5|265.625| 266.25|119.073845|   700|  NAV|\n",
      "|1962-02-08| 0.0|  275.0|271.875| 273.75| 122.42809|   700|  NAV|\n",
      "|1962-02-01| 0.0|268.125|265.625| 266.25|119.073845|   900|  NAV|\n",
      "|1962-02-15| 0.0|  275.0|  272.5|274.375|122.707565|  1200|  NAV|\n",
      "|1962-02-07| 0.0|274.375|  270.0|274.375|122.707565|  1300|  NAV|\n",
      "|1962-02-23| 0.0|279.375| 276.25| 278.75| 124.66421|   600|  NAV|\n",
      "|1962-02-21| 0.0| 281.25|276.875|276.875|123.825645|  1200|  NAV|\n",
      "|1962-09-25| 0.0|225.625|224.375|225.625| 104.56268|   300|  NAV|\n",
      "+----------+----+-------+-------+-------+----------+------+-----+\n",
      "only showing top 20 rows\n",
      "\n"
     ]
    }
   ],
   "source": [
    "sixty_two_df.where(F.col('close') > 50).show()"
   ]
  },
  {
   "cell_type": "code",
   "execution_count": 18,
   "metadata": {},
   "outputs": [
    {
     "name": "stdout",
     "output_type": "stream",
     "text": [
      "+----------+----+-------+-------+-------+----------+------+-----+\n",
      "|      date|open|   high|    low|  close| adj_close|volume|stock|\n",
      "+----------+----+-------+-------+-------+----------+------+-----+\n",
      "|1962-02-19| 0.0|  280.0|276.875|279.375| 124.94374|   600|  NAV|\n",
      "|1962-02-14| 0.0|276.875|273.125| 273.75| 122.42809|   800|  NAV|\n",
      "|1962-02-13| 0.0|  277.5|  275.0| 276.25| 123.54612|  1000|  NAV|\n",
      "|1962-02-26| 0.0|279.375| 276.25|279.375| 124.94374|   700|  NAV|\n",
      "|1962-02-06| 0.0|271.875|268.125| 271.25| 121.31004|  1600|  NAV|\n",
      "|1962-02-02| 0.0| 266.25| 263.75| 266.25|119.073845|   800|  NAV|\n",
      "|1962-02-16| 0.0|  277.5|274.375|  277.5| 124.10516|  1400|  NAV|\n",
      "|1962-02-27| 0.0|  280.0| 278.75|  280.0|  125.2233|   600|  NAV|\n",
      "|1962-02-12| 0.0| 276.25|274.375| 276.25| 123.54612|   700|  NAV|\n",
      "|1962-02-20| 0.0|  280.0|276.875|279.375| 124.94374|  1000|  NAV|\n",
      "|1962-02-09| 0.0|274.375|  272.5| 273.75| 122.42809|  1100|  NAV|\n",
      "|1962-02-28| 0.0|280.625| 278.75|  280.0|  125.2233|   800|  NAV|\n",
      "|1962-02-05| 0.0|  267.5|265.625| 266.25|119.073845|   700|  NAV|\n",
      "|1962-02-08| 0.0|  275.0|271.875| 273.75| 122.42809|   700|  NAV|\n",
      "|1962-02-01| 0.0|268.125|265.625| 266.25|119.073845|   900|  NAV|\n",
      "|1962-02-15| 0.0|  275.0|  272.5|274.375|122.707565|  1200|  NAV|\n",
      "|1962-02-07| 0.0|274.375|  270.0|274.375|122.707565|  1300|  NAV|\n",
      "|1962-02-23| 0.0|279.375| 276.25| 278.75| 124.66421|   600|  NAV|\n",
      "|1962-02-21| 0.0| 281.25|276.875|276.875|123.825645|  1200|  NAV|\n",
      "|1962-09-25| 0.0|225.625|224.375|225.625| 104.56268|   300|  NAV|\n",
      "+----------+----+-------+-------+-------+----------+------+-----+\n",
      "only showing top 20 rows\n",
      "\n"
     ]
    }
   ],
   "source": [
    "sixty_two_df.where(F.col('adj_close') > 20).show()"
   ]
  },
  {
   "attachments": {},
   "cell_type": "markdown",
   "metadata": {},
   "source": [
    " ## 📔️**Notes** 📔️\n",
    "\n",
    " *Use this cell to note down any potential findings.*\n",
    "\n",
    " 1. For a sizable number of the values of the columns that were outside the normal range, their parallel values under the open column were zero.\n",
    " 2.\n",
    "    ..."
   ]
  },
  {
   "cell_type": "markdown",
   "metadata": {},
   "source": [
    "\n",
    "\n",
    "## Completeness\n",
    "\n",
    "Completeness is the proportion of stored data against the potential of “100% complete\". This is the degree to which the required data is in the dataset. \n",
    "\n",
    "Does the dataset have missing values, or if it is time-series data, does it have time period gaps? Has a bias been introduced that may change your assumptions or affect your results?\n",
    "\n",
    "Completeness issues can occur at the row level (gaps within the dataset) or the field level (one entry missing). At the field level, entire fields can being empty, or >80% of a field's data missing. \n",
    "\n",
    "Another issue that may occur is default values. A typical example of this is where a logger sends back a 0 instead of a null value, which can greatly skew any attempts at modelling. This is where it is instrumental to employ domain knowledge when assessing a dataset. \n",
    "\n",
    "- **Measured by**: A measure of the absence of blank (null) values or the presence of non-blank values;\n",
    "- **Units**: Percentage;\n",
    "- **Related to**: Validity and Accuracy."
   ]
  },
  {
   "cell_type": "markdown",
   "metadata": {},
   "source": [
    "### Missing values\n",
    "\n",
    "> ℹ️ **Instructions** ℹ️\n",
    ">\n",
    "> Write code to identify and count the number of missing values (nulls) in the dataset. Include a percentage to describe the proportion of missing values per column. Output the results in the following manner:\n",
    ">\n",
    "> `There are <number_of_missing_values> (<percentage>) null values in <column_name> column`\n",
    ">\n",
    ">*You may use as many coding cells as necessary.*"
   ]
  },
  {
   "cell_type": "code",
   "execution_count": 19,
   "metadata": {},
   "outputs": [
    {
     "name": "stdout",
     "output_type": "stream",
     "text": [
      "There are 0 (0.0%) null values in date column\n",
      "There are 0 (0.0%) null values in open column\n",
      "There are 0 (0.0%) null values in high column\n",
      "There are 42 (0.823%) null values in low column\n",
      "There are 0 (0.0%) null values in close column\n",
      "There are 21 (0.411%) null values in adj_close column\n",
      "There are 21 (0.411%) null values in volume column\n",
      "There are 0 (0.0%) null values in stock column\n"
     ]
    }
   ],
   "source": [
    "#TODO: Write your code here\n",
    "missing_count = {}  # Dictionary to keep track of the results\n",
    "for column in sixty_two_df.columns:   # loop through each column\n",
    "    _count = sixty_two_df.where(sixty_two_df[column].isNull()).count()  # null count in column x\n",
    "    _total_count = sixty_two_df.select(sixty_two_df[column]).count()    # total count of column x \n",
    "    print(f'There are {_count} ({round(_count/_total_count*100, 3)}%) null values in {column} column')  # print out and calculate results\n",
    "    missing_count[f'{column}'] = _count # recording results in missing_count dictionary "
   ]
  },
  {
   "cell_type": "code",
   "execution_count": 20,
   "metadata": {},
   "outputs": [
    {
     "name": "stdout",
     "output_type": "stream",
     "text": [
      "+----+----+----+---+-----+---------+------+-----+\n",
      "|date|open|high|low|close|adj_close|volume|stock|\n",
      "+----+----+----+---+-----+---------+------+-----+\n",
      "|   0|   0|   0| 42|    0|       21|    21|    0|\n",
      "+----+----+----+---+-----+---------+------+-----+\n",
      "\n"
     ]
    }
   ],
   "source": [
    "sixty_two_df.select([F.count(F.when(F.isnull(c), c)).alias(c) for c in sixty_two_df.columns]).show(5)"
   ]
  },
  {
   "cell_type": "markdown",
   "metadata": {},
   "source": [
    "### Columns with missing values"
   ]
  },
  {
   "cell_type": "markdown",
   "metadata": {},
   "source": [
    "\n",
    "> ℹ️ **Instructions** ℹ️\n",
    ">\n",
    "> From the above result, probe the columns that are affected by the missing data to find out which stocks were affected.\n",
    ">\n",
    ">*You may use as many coding cells as necessary.*"
   ]
  },
  {
   "cell_type": "code",
   "execution_count": 21,
   "metadata": {},
   "outputs": [
    {
     "name": "stdout",
     "output_type": "stream",
     "text": [
      "+-------------------------------------------+\n",
      "|count(CASE WHEN (low IS NULL) THEN low END)|\n",
      "+-------------------------------------------+\n",
      "|                                         42|\n",
      "+-------------------------------------------+\n",
      "\n"
     ]
    }
   ],
   "source": [
    "sixty_two_df.select(F.count(F.when(F.isnull('low'), 'low'))).show()"
   ]
  },
  {
   "cell_type": "code",
   "execution_count": 22,
   "metadata": {},
   "outputs": [
    {
     "name": "stdout",
     "output_type": "stream",
     "text": [
      "+-------------------------------------------------------+\n",
      "|count(CASE WHEN (adj_close IS NULL) THEN adj_close END)|\n",
      "+-------------------------------------------------------+\n",
      "|                                                     21|\n",
      "+-------------------------------------------------------+\n",
      "\n"
     ]
    }
   ],
   "source": [
    "sixty_two_df.select(F.count(F.when(F.isnull('adj_close'), 'adj_close'))).show()"
   ]
  },
  {
   "cell_type": "code",
   "execution_count": 23,
   "metadata": {},
   "outputs": [
    {
     "name": "stdout",
     "output_type": "stream",
     "text": [
      "+-------------------------------------------------+\n",
      "|count(CASE WHEN (volume IS NULL) THEN volume END)|\n",
      "+-------------------------------------------------+\n",
      "|                                               21|\n",
      "+-------------------------------------------------+\n",
      "\n"
     ]
    }
   ],
   "source": [
    "sv = sixty_two_df.select(F.count(F.when(F.isnull('volume'), 'volume'))).show()"
   ]
  },
  {
   "cell_type": "code",
   "execution_count": 24,
   "metadata": {},
   "outputs": [
    {
     "name": "stdout",
     "output_type": "stream",
     "text": [
      "+-----+-----+\n",
      "|stock|count|\n",
      "+-----+-----+\n",
      "|  CAT|   22|\n",
      "|  NAV|   20|\n",
      "+-----+-----+\n",
      "\n"
     ]
    }
   ],
   "source": [
    "#TODO: Write your code here\n",
    "sixty_two_df.where(F.isnull('low')).groupby('stock').count().show()"
   ]
  },
  {
   "cell_type": "code",
   "execution_count": 25,
   "metadata": {},
   "outputs": [
    {
     "name": "stdout",
     "output_type": "stream",
     "text": [
      "+-----+-----+\n",
      "|stock|count|\n",
      "+-----+-----+\n",
      "|   FL|   21|\n",
      "+-----+-----+\n",
      "\n"
     ]
    }
   ],
   "source": [
    "sixty_two_df.where(F.isnull('adj_close')).groupby('stock').count().show()"
   ]
  },
  {
   "cell_type": "code",
   "execution_count": 26,
   "metadata": {},
   "outputs": [
    {
     "name": "stdout",
     "output_type": "stream",
     "text": [
      "+-----+-----+\n",
      "|stock|count|\n",
      "+-----+-----+\n",
      "|  JNJ|   21|\n",
      "+-----+-----+\n",
      "\n"
     ]
    }
   ],
   "source": [
    "sixty_two_df.where(F.isnull('volume')).groupby('stock').count().show()"
   ]
  },
  {
   "cell_type": "markdown",
   "metadata": {},
   "source": [
    "#### Fix Completeness\n",
    "\n",
    "How do we deal with incomplete data?\n",
    "- Dropping missing values\n",
    "- Discard the incomplete column\n",
    "- Discard the rows containing missing data\n",
    "- Case deletion\n",
    "\n",
    "> ℹ️ **Instructions** ℹ️\n",
    ">\n",
    "> Use the appropriate strategy to remedy the missing data. \n",
    ">\n",
    ">*You may use as many coding cells as necessary.*"
   ]
  },
  {
   "cell_type": "code",
   "execution_count": 27,
   "metadata": {},
   "outputs": [],
   "source": [
    "sixty_two_df =  sixty_two_df.dropna()"
   ]
  },
  {
   "cell_type": "code",
   "execution_count": 28,
   "metadata": {},
   "outputs": [
    {
     "name": "stdout",
     "output_type": "stream",
     "text": [
      "+----+----+----+---+-----+---------+------+-----+\n",
      "|date|open|high|low|close|adj_close|volume|stock|\n",
      "+----+----+----+---+-----+---------+------+-----+\n",
      "|   0|   0|   0|  0|    0|        0|     0|    0|\n",
      "+----+----+----+---+-----+---------+------+-----+\n",
      "\n"
     ]
    }
   ],
   "source": [
    "#TODO: Write your code here\n",
    "sixty_two_df.select([F.count(F.when(F.isnull(c), c)).alias(c) for c in sixty_two_df.columns]).show(5)"
   ]
  },
  {
   "cell_type": "markdown",
   "metadata": {},
   "source": [
    "### Zero Values\n",
    "\n",
    "Take a deeper look into the entries with many zero values."
   ]
  },
  {
   "cell_type": "markdown",
   "metadata": {},
   "source": [
    "#### Fix Completeness\n",
    "\n",
    "Completeness issues can be fixed through imputation of the missing data through:\n",
    "- imputation by mean/mode/median;\n",
    "- regression; or\n",
    "- KNN.\n",
    " \n",
    "> ℹ️ **Instructions** ℹ️\n",
    ">\n",
    "> Write code to identify and count the number of zeros (0) in the dataset. Include a percentage to describe the proportion of missing values per column. Output the results in the following manner:\n",
    ">\n",
    "> `There are <number_of_zeros> (<percentage>) zero values in <column_name> column`\n",
    ">\n",
    ">*You may use as many coding cells as necessary.*"
   ]
  },
  {
   "cell_type": "code",
   "execution_count": 29,
   "metadata": {},
   "outputs": [
    {
     "name": "stdout",
     "output_type": "stream",
     "text": [
      "There are 0 (0.0%) zero values in date column\n",
      "There are 2706 (53.883%) zero values in open column\n",
      "There are 20 (0.398%) zero values in high column\n",
      "There are 0 (0.0%) zero values in low column\n",
      "There are 0 (0.0%) zero values in close column\n",
      "There are 0 (0.0%) zero values in adj_close column\n",
      "There are 27 (0.538%) zero values in volume column\n",
      "There are 0 (0.0%) zero values in stock column\n"
     ]
    }
   ],
   "source": [
    "#TODO: Write your code here\n",
    "missing_count = {}\n",
    "for column in sixty_two_df.columns: # loop through each column\n",
    "     try:\n",
    "        _count = sixty_two_df.where(sixty_two_df[column] == F.lit(0) ).count()# count the number of zeros in column\n",
    "        _total_count = sixty_two_df.select(sixty_two_df[column]).count()  # count the total number of values in column\n",
    "        print(f'There are {_count} ({round(_count/_total_count*100, 3)}%) zero values in {column} column')# calculate and print the results\n",
    "        missing_count[f'{column}'] = _count# recording results in the dictionary \n",
    "     except: # catch exceptions\n",
    "         print(f'Column is not numeric: {[dtype for name, dtype in sixty_two_df.dtypes if name == column][0]}')"
   ]
  },
  {
   "cell_type": "markdown",
   "metadata": {},
   "source": [
    "From the above section, you find that there are a few columns that contain zero values. However, some of these are true zeros and are explainable. Your task is to distinguish which column should undergo data imputation.\n",
    "\n",
    "> ℹ️ **Instructions** ℹ️\n",
    ">\n",
    "> Investigate the columns with zero values and determine which one should undergo data imputation. Take note of the stock and month on which zero values occurred.\n",
    ">\n",
    ">*You may use as many coding cells as necessary.*"
   ]
  },
  {
   "cell_type": "code",
   "execution_count": 30,
   "metadata": {},
   "outputs": [
    {
     "name": "stdout",
     "output_type": "stream",
     "text": [
      "+-----+-----+\n",
      "|stock|count|\n",
      "+-----+-----+\n",
      "|  CAT|   20|\n",
      "+-----+-----+\n",
      "\n"
     ]
    }
   ],
   "source": [
    "#TODO: Write your code here\n",
    "sixty_two_df.where(sixty_two_df['high'] == 0).groupby('stock').count().show()"
   ]
  },
  {
   "cell_type": "code",
   "execution_count": 31,
   "metadata": {},
   "outputs": [
    {
     "name": "stdout",
     "output_type": "stream",
     "text": [
      "+-----+-----------+-----+\n",
      "|stock|month(date)|count|\n",
      "+-----+-----------+-----+\n",
      "|  CAT|         11|   20|\n",
      "+-----+-----------+-----+\n",
      "\n"
     ]
    }
   ],
   "source": [
    "#TODO: Write your code here\n",
    "sixty_two_df.where(sixty_two_df['high'] == 0).groupby('stock', F.month('date')).count().show()"
   ]
  },
  {
   "cell_type": "code",
   "execution_count": 32,
   "metadata": {},
   "outputs": [
    {
     "name": "stdout",
     "output_type": "stream",
     "text": [
      "+-----+-----+\n",
      "|stock|count|\n",
      "+-----+-----+\n",
      "|  XOM|  252|\n",
      "|   PG|  229|\n",
      "|   GT|  252|\n",
      "|   MO|  252|\n",
      "|  JNJ|  231|\n",
      "|  CVX|  252|\n",
      "|  DTE|  252|\n",
      "|   IP|  252|\n",
      "|   FL|  231|\n",
      "|   ED|  271|\n",
      "|  NAV|  232|\n",
      "+-----+-----+\n",
      "\n"
     ]
    }
   ],
   "source": [
    "sixty_two_df.where(sixty_two_df['open'] == 0).groupby('stock').count().show()"
   ]
  },
  {
   "cell_type": "code",
   "execution_count": 33,
   "metadata": {},
   "outputs": [
    {
     "name": "stdout",
     "output_type": "stream",
     "text": [
      "+-----+-----------+-----+\n",
      "|stock|month(date)|count|\n",
      "+-----+-----------+-----+\n",
      "|  CVX|          4|   20|\n",
      "|   IP|         12|   20|\n",
      "|  CVX|         12|   20|\n",
      "|  XOM|         12|   20|\n",
      "|   GT|          2|   19|\n",
      "|  DTE|          2|   19|\n",
      "|   IP|          1|   22|\n",
      "|  DTE|          9|   19|\n",
      "|   FL|         12|   20|\n",
      "|   GT|          5|   22|\n",
      "|  NAV|          4|   20|\n",
      "|   IP|         10|   23|\n",
      "|   FL|          5|   22|\n",
      "|   IP|          2|   19|\n",
      "|   MO|          5|   22|\n",
      "|  CVX|          8|   23|\n",
      "|   MO|          7|   21|\n",
      "|  NAV|          8|   23|\n",
      "|   PG|         11|   20|\n",
      "|  NAV|          2|   19|\n",
      "+-----+-----------+-----+\n",
      "only showing top 20 rows\n",
      "\n"
     ]
    }
   ],
   "source": [
    "#TODO: Write your code here\n",
    "sixty_two_df.where(sixty_two_df['open'] == 0).groupby('stock', F.month('date')).count().show()"
   ]
  },
  {
   "cell_type": "code",
   "execution_count": 34,
   "metadata": {},
   "outputs": [
    {
     "name": "stdout",
     "output_type": "stream",
     "text": [
      "+-----+-----+\n",
      "|stock|count|\n",
      "+-----+-----+\n",
      "|  XOM|   22|\n",
      "|  JNJ|    4|\n",
      "|   GE|    1|\n",
      "+-----+-----+\n",
      "\n"
     ]
    }
   ],
   "source": [
    "sixty_two_df.where(sixty_two_df['volume'] == 0).groupby('stock').count().show()"
   ]
  },
  {
   "cell_type": "code",
   "execution_count": 35,
   "metadata": {},
   "outputs": [
    {
     "name": "stdout",
     "output_type": "stream",
     "text": [
      "+-----+-----------+-----+\n",
      "|stock|month(date)|count|\n",
      "+-----+-----------+-----+\n",
      "|  JNJ|          1|    1|\n",
      "|  XOM|          5|   22|\n",
      "|  JNJ|         10|    1|\n",
      "|   GE|         11|    1|\n",
      "|  JNJ|          4|    1|\n",
      "|  JNJ|          9|    1|\n",
      "+-----+-----------+-----+\n",
      "\n"
     ]
    }
   ],
   "source": [
    "#TODO: Write your code here\n",
    "sixty_two_df.where(sixty_two_df['volume'] == 0).groupby('stock', F.month('date')).count().show()"
   ]
  },
  {
   "cell_type": "markdown",
   "metadata": {},
   "source": [
    "> ℹ️ **Instructions** ℹ️\n",
    ">\n",
    "> Once you have identified the column that needs to undergo imputation, update the values for the affected records by using the average value for the affected stock.\n",
    ">\n",
    ">*You may use as many coding cells as necessary.*"
   ]
  },
  {
   "cell_type": "code",
   "execution_count": 36,
   "metadata": {},
   "outputs": [],
   "source": [
    "day_window = Window.partitionBy(F.col('stock'))\n",
    "\n",
    "cols_to_impute = ['high','volume']\n",
    "\n",
    "for field in cols_to_impute:\n",
    "    sixty_two_df = sixty_two_df.withColumn(field, F.when(F.col(field) == 0, F.mean(field).over(day_window)).otherwise(F.col(field)))"
   ]
  },
  {
   "cell_type": "code",
   "execution_count": 37,
   "metadata": {},
   "outputs": [],
   "source": [
    "#sixty_two_df = sixty_two_df.withColumn('open', F.when(F.col('open') == 0.0, F.mean('open').over(day_window)).otherwise(F.col('open')))"
   ]
  },
  {
   "cell_type": "code",
   "execution_count": 38,
   "metadata": {},
   "outputs": [
    {
     "name": "stdout",
     "output_type": "stream",
     "text": [
      "+----+----+----+---+-----+---------+------+-----+\n",
      "|date|open|high|low|close|adj_close|volume|stock|\n",
      "+----+----+----+---+-----+---------+------+-----+\n",
      "+----+----+----+---+-----+---------+------+-----+\n",
      "\n"
     ]
    }
   ],
   "source": [
    "sixty_two_df.where(sixty_two_df['high'] == 0).show()"
   ]
  },
  {
   "cell_type": "code",
   "execution_count": 39,
   "metadata": {},
   "outputs": [
    {
     "name": "stdout",
     "output_type": "stream",
     "text": [
      "+----+----+----+---+-----+---------+------+-----+\n",
      "|date|open|high|low|close|adj_close|volume|stock|\n",
      "+----+----+----+---+-----+---------+------+-----+\n",
      "+----+----+----+---+-----+---------+------+-----+\n",
      "\n"
     ]
    }
   ],
   "source": [
    "sixty_two_df.where(sixty_two_df['volume'] == 0).show()"
   ]
  },
  {
   "cell_type": "code",
   "execution_count": 40,
   "metadata": {},
   "outputs": [],
   "source": [
    "#TODO: Write your code here\n",
    "#sixty_two_df.where(sixty_two_df['open'] == 0).show()"
   ]
  },
  {
   "cell_type": "code",
   "execution_count": 41,
   "metadata": {},
   "outputs": [
    {
     "data": {
      "text/plain": [
       "2706"
      ]
     },
     "execution_count": 41,
     "metadata": {},
     "output_type": "execute_result"
    }
   ],
   "source": [
    "sixty_two_df.where(sixty_two_df['open'] == 0).count()"
   ]
  },
  {
   "cell_type": "markdown",
   "metadata": {},
   "source": [
    "\n",
    "## Consistency\n",
    "\n",
    "Consistency is the absence of difference when comparing two or more representations of a thing against a reference.\n",
    "\n",
    "Data entries that refer to the same record or entity have to be consistent across all entries, e.g., if you are dealing with records from a logger in the field, the entries for that logger have to remain consistent, and the name or primary key of that logger cannot change from one entry to another. \n",
    "\n",
    "For example, 'Logger1', 'Loger1' and 'Logge1' are examples of inconsistent keys. \n",
    "\n",
    "This is not just within a single table but also becomes more important if you are dealing with relational data. In which case, the mappings between tables and systems must be consistent. If not, the relationships will be completely lost between the tables and referential integrity compromised. \n",
    "\n",
    "- **Measured by**: Analysis of pattern and/or value frequency;\n",
    "- **Units**: Percentage;\n",
    "- **Related to**: Accuracy, Validity, and Uniqueness."
   ]
  },
  {
   "cell_type": "markdown",
   "metadata": {},
   "source": [
    "> ℹ️ **Instructions** ℹ️\n",
    ">\n",
    "> There currently exists a stock that has inconsistent naming. Make use of the metadata to determine which stock is inconsistently named, then update the dataframe appropriately to get rid of this inconsistency.\n",
    ">\n",
    ">*You may use as many coding cells as necessary.*"
   ]
  },
  {
   "cell_type": "code",
   "execution_count": 42,
   "metadata": {},
   "outputs": [
    {
     "name": "stdout",
     "output_type": "stream",
     "text": [
      "+-----+-----+\n",
      "|stock|count|\n",
      "+-----+-----+\n",
      "|   AA|  252|\n",
      "|  XOM|  252|\n",
      "|  DIS|  252|\n",
      "|ARNCA|   21|\n",
      "|   PG|  252|\n",
      "|   GT|  252|\n",
      "|   MO|  252|\n",
      "|  IBM|  252|\n",
      "|  JNJ|  231|\n",
      "|  CVX|  252|\n",
      "|  DTE|  252|\n",
      "|   BA|  242|\n",
      "|   GE|  252|\n",
      "|  HPQ|  309|\n",
      "| ARNC|  231|\n",
      "|  CAT|  230|\n",
      "|   IP|  252|\n",
      "|   FL|  231|\n",
      "|   ED|  271|\n",
      "|  NAV|  232|\n",
      "+-----+-----+\n",
      "only showing top 20 rows\n",
      "\n"
     ]
    }
   ],
   "source": [
    "sixty_two_df.groupby('stock').count().show()"
   ]
  },
  {
   "cell_type": "code",
   "execution_count": 43,
   "metadata": {},
   "outputs": [
    {
     "name": "stdout",
     "output_type": "stream",
     "text": [
      "+-----+-----+\n",
      "|stock|count|\n",
      "+-----+-----+\n",
      "|ARNCA|   21|\n",
      "+-----+-----+\n",
      "\n"
     ]
    }
   ],
   "source": [
    "sixty_two_df.filter(~F.col('stock').isin(symbols_meta.select('Symbol').rdd.flatMap(lambda x: x).collect())).groupby('stock').count().show()"
   ]
  },
  {
   "cell_type": "code",
   "execution_count": 44,
   "metadata": {},
   "outputs": [],
   "source": [
    "sixty_two_df = sixty_two_df.withColumn('stock', F.when(sixty_two_df['stock'] == 'ARNCA', 'ARNC').otherwise(sixty_two_df['stock']))"
   ]
  },
  {
   "cell_type": "code",
   "execution_count": 45,
   "metadata": {},
   "outputs": [
    {
     "name": "stdout",
     "output_type": "stream",
     "text": [
      "+-----+-----+\n",
      "|stock|count|\n",
      "+-----+-----+\n",
      "|   AA|  252|\n",
      "|  XOM|  252|\n",
      "|  DIS|  252|\n",
      "|   PG|  252|\n",
      "|   GT|  252|\n",
      "|   MO|  252|\n",
      "|  IBM|  252|\n",
      "|  JNJ|  231|\n",
      "|  CVX|  252|\n",
      "|  DTE|  252|\n",
      "|   BA|  242|\n",
      "|   GE|  252|\n",
      "|  HPQ|  309|\n",
      "| ARNC|  252|\n",
      "|  CAT|  230|\n",
      "|   IP|  252|\n",
      "|   FL|  231|\n",
      "|   ED|  271|\n",
      "|  NAV|  232|\n",
      "|   KO|  252|\n",
      "+-----+-----+\n",
      "\n"
     ]
    }
   ],
   "source": [
    "sixty_two_df.groupby('stock').count().show()"
   ]
  },
  {
   "cell_type": "code",
   "execution_count": 46,
   "metadata": {},
   "outputs": [
    {
     "name": "stdout",
     "output_type": "stream",
     "text": [
      "+-----+-----+\n",
      "|stock|count|\n",
      "+-----+-----+\n",
      "+-----+-----+\n",
      "\n"
     ]
    }
   ],
   "source": [
    "sixty_two_df.filter(~F.col('stock').isin(symbols_meta.select('Symbol').rdd.flatMap(lambda x: x).collect())).groupby('stock').count().show()"
   ]
  },
  {
   "cell_type": "markdown",
   "metadata": {},
   "source": [
    "## Timeliness\n",
    "\n",
    "Timeliness is the degree to which data represent reality from the required point in time.\n",
    "\n",
    "Timeliness expects that the data within your dataset is sufficiently up to date. If you are trying to answer questions that relate to recent problems, having timely data is extremely important. For example, you cannot use current flight patterns to model how many aeroplanes will be required by a large aeronautics company within the next 5-10 years. \n",
    "\n",
    "Similarly, when answering questions that require real-time answers (e.g., predicting when a pipe will burst in a manufacturing plant), you have to be set up to receive real-time data from sensors and loggers. \n",
    "\n",
    "- **Measured by**: Time difference;\n",
    "- **Units**: Time;\n",
    "- **Related to**: Accuracy because it will decay as time progress. "
   ]
  },
  {
   "cell_type": "markdown",
   "metadata": {},
   "source": [
    "It is important to see the latest value for each of the stocks that we are looking at:"
   ]
  },
  {
   "cell_type": "code",
   "execution_count": 47,
   "metadata": {},
   "outputs": [
    {
     "name": "stdout",
     "output_type": "stream",
     "text": [
      "+-----+----------+\n",
      "|stock| max(Date)|\n",
      "+-----+----------+\n",
      "|   AA|1962-12-31|\n",
      "|  XOM|1962-12-31|\n",
      "|  DIS|1962-12-31|\n",
      "|   PG|1962-12-31|\n",
      "|   GT|1962-12-31|\n",
      "|   MO|1962-12-31|\n",
      "|  IBM|1962-12-31|\n",
      "|  JNJ|1962-12-31|\n",
      "|  CVX|1962-12-31|\n",
      "|  DTE|1962-12-31|\n",
      "|   BA|1962-12-31|\n",
      "|   GE|1962-12-31|\n",
      "|  HPQ|1962-12-31|\n",
      "| ARNC|1962-12-31|\n",
      "|  CAT|1962-12-31|\n",
      "|   IP|1962-12-31|\n",
      "|   FL|1962-12-31|\n",
      "|   ED|1962-12-31|\n",
      "|  NAV|1962-11-30|\n",
      "|   KO|1962-12-31|\n",
      "+-----+----------+\n",
      "\n"
     ]
    }
   ],
   "source": [
    "sixty_two_df.groupBy('stock').agg(F.max('Date')).show()"
   ]
  },
  {
   "cell_type": "markdown",
   "metadata": {},
   "source": [
    "Sometimes, some of these axes of data quality will be less important than others. \n",
    "This is one of those cases where it is less important to have timely data, since \n",
    "we are trying to create a training dataset for a stock market prediction algorithm. \n",
    "\n",
    "It is important to know the context in which you are doing your modelling. "
   ]
  },
  {
   "cell_type": "markdown",
   "metadata": {},
   "source": [
    "### Gaps in the dataset\n",
    "\n",
    "Let's see if we can find inconsistencies in the time series by having a look at the number of entries for each of the tickers.\n",
    " \n",
    "> ℹ️ **Instructions** ℹ️\n",
    ">\n",
    "> Uncomment and use the below code to determine which dates had entries that were not equal to 20. You may have to change the name of the dataframe to see the resultant output\n",
    ">\n",
    ">*You may use as many coding cells as necessary.*"
   ]
  },
  {
   "cell_type": "code",
   "execution_count": 48,
   "metadata": {},
   "outputs": [
    {
     "name": "stdout",
     "output_type": "stream",
     "text": [
      "+----------+-----+\n",
      "|      date|count|\n",
      "+----------+-----+\n",
      "|1962-03-08|   19|\n",
      "|1962-03-29|   19|\n",
      "|1962-02-15|   23|\n",
      "|1962-12-19|   19|\n",
      "|1962-02-28|   23|\n",
      "|1962-09-21|   21|\n",
      "|1962-06-15|   19|\n",
      "|1962-06-13|   19|\n",
      "|1962-06-22|   19|\n",
      "|1962-09-25|   21|\n",
      "|1962-02-05|   23|\n",
      "|1962-07-11|   19|\n",
      "|1962-12-04|   18|\n",
      "|1962-03-07|   19|\n",
      "|1962-09-14|   21|\n",
      "|1962-07-09|   19|\n",
      "|1962-09-07|   21|\n",
      "|1962-06-19|   19|\n",
      "|1962-07-02|   19|\n",
      "|1962-09-24|   21|\n",
      "|1962-06-29|   19|\n",
      "|1962-12-21|   19|\n",
      "|1962-07-03|   19|\n",
      "|1962-06-11|   19|\n",
      "|1962-09-05|   21|\n",
      "|1962-12-26|   19|\n",
      "|1962-09-17|   21|\n",
      "|1962-02-01|   23|\n",
      "|1962-09-11|   21|\n",
      "|1962-12-07|   18|\n",
      "|1962-07-25|   19|\n",
      "|1962-06-01|   19|\n",
      "|1962-03-22|   19|\n",
      "|1962-12-18|   19|\n",
      "|1962-02-20|   23|\n",
      "|1962-03-05|   19|\n",
      "|1962-12-31|   19|\n",
      "|1962-12-27|   19|\n",
      "|1962-09-26|   21|\n",
      "|1962-03-21|   19|\n",
      "|1962-09-20|   21|\n",
      "|1962-06-25|   19|\n",
      "|1962-12-12|   18|\n",
      "|1962-06-08|   19|\n",
      "|1962-07-23|   19|\n",
      "|1962-07-31|   19|\n",
      "|1962-02-13|   23|\n",
      "|1962-02-02|   23|\n",
      "|1962-03-16|   19|\n",
      "|1962-03-20|   19|\n",
      "|1962-09-13|   21|\n",
      "|1962-07-24|   19|\n",
      "|1962-02-08|   23|\n",
      "|1962-06-26|   19|\n",
      "|1962-02-23|   23|\n",
      "|1962-03-27|   19|\n",
      "|1962-03-09|   19|\n",
      "|1962-07-10|   19|\n",
      "|1962-02-16|   23|\n",
      "|1962-06-05|   19|\n",
      "|1962-12-06|   18|\n",
      "|1962-07-06|   19|\n",
      "|1962-12-14|   18|\n",
      "|1962-07-27|   19|\n",
      "|1962-03-13|   19|\n",
      "|1962-03-14|   19|\n",
      "|1962-06-28|   19|\n",
      "|1962-02-06|   23|\n",
      "|1962-12-28|   19|\n",
      "|1962-03-02|   19|\n",
      "|1962-02-14|   23|\n",
      "|1962-12-05|   18|\n",
      "|1962-06-12|   19|\n",
      "|1962-06-18|   19|\n",
      "|1962-07-05|   19|\n",
      "|1962-12-17|   18|\n",
      "|1962-12-03|   19|\n",
      "|1962-06-21|   19|\n",
      "|1962-07-26|   19|\n",
      "|1962-06-06|   19|\n",
      "|1962-07-20|   19|\n",
      "|1962-03-01|   19|\n",
      "|1962-12-13|   18|\n",
      "|1962-09-10|   21|\n",
      "|1962-07-13|   19|\n",
      "|1962-03-23|   19|\n",
      "|1962-02-19|   23|\n",
      "|1962-09-06|   21|\n",
      "|1962-03-30|   19|\n",
      "|1962-12-24|   19|\n",
      "|1962-06-07|   19|\n",
      "|1962-02-26|   23|\n",
      "|1962-06-04|   19|\n",
      "|1962-12-20|   19|\n",
      "|1962-07-18|   19|\n",
      "|1962-02-09|   23|\n",
      "|1962-06-27|   19|\n",
      "|1962-07-16|   19|\n",
      "|1962-03-26|   19|\n",
      "|1962-03-12|   19|\n",
      "|1962-09-18|   21|\n",
      "|1962-02-21|   23|\n",
      "|1962-06-20|   19|\n",
      "|1962-02-12|   23|\n",
      "|1962-09-27|   21|\n",
      "|1962-03-15|   19|\n",
      "|1962-02-07|   23|\n",
      "|1962-03-06|   19|\n",
      "|1962-07-19|   19|\n",
      "|1962-07-12|   19|\n",
      "|1962-02-27|   23|\n",
      "|1962-03-19|   19|\n",
      "|1962-09-04|   21|\n",
      "|1962-09-28|   21|\n",
      "|1962-12-11|   18|\n",
      "|1962-07-30|   19|\n",
      "|1962-03-28|   19|\n",
      "|1962-12-10|   18|\n",
      "|1962-07-17|   19|\n",
      "|1962-06-14|   19|\n",
      "|1962-09-19|   21|\n",
      "|1962-09-12|   21|\n",
      "+----------+-----+\n",
      "\n"
     ]
    }
   ],
   "source": [
    "sixty_two_df.orderBy('date').groupby('date').count().where(F.col('count') != 20).show(400)"
   ]
  },
  {
   "cell_type": "markdown",
   "metadata": {},
   "source": [
    "> ℹ️ **Instructions** ℹ️\n",
    ">\n",
    "> From the above result, investigate the number of times a stock appears for the given month. You can infer the months by using the output of the previous cell.\n",
    ">\n",
    ">*You may use as many coding cells as necessary.*"
   ]
  },
  {
   "cell_type": "code",
   "execution_count": 49,
   "metadata": {},
   "outputs": [
    {
     "name": "stdout",
     "output_type": "stream",
     "text": [
      "+-----------+-----+\n",
      "|month(date)|count|\n",
      "+-----------+-----+\n",
      "|         12|  370|\n",
      "|          1|  440|\n",
      "|          6|  399|\n",
      "|          3|  418|\n",
      "|          5|  440|\n",
      "|          9|  399|\n",
      "|          4|  400|\n",
      "|          8|  460|\n",
      "|          7|  399|\n",
      "|         10|  460|\n",
      "|         11|  400|\n",
      "|          2|  437|\n",
      "+-----------+-----+\n",
      "\n"
     ]
    }
   ],
   "source": [
    "#TODO: Write your code here\n",
    "sixty_two_df.orderBy(F.month('date')).groupby(F.month('date')).count().show()"
   ]
  },
  {
   "cell_type": "markdown",
   "metadata": {},
   "source": [
    "## Uniqueness\n",
    "\n",
    "Uniqueness requires that nothing will be recorded more than once based upon how that thing is identified. It is the inverse of an assessment of the level of duplication.\n",
    "\n",
    "Each entry within the dataset should only relate to a single event that has occurred and thus should not be duplicated. This is largely mediated by having the appropriate primary key, which means sticking to the requirements of a good primary key. All fields in the tables should be non-transitively dependent on the primary key.\n",
    "\n",
    "As such, deduplication of the dataset may be required. \n",
    "\n",
    "- **Measured by**: Analysis of the number of things assessed in the “real world” compared to the number of records of things in the dataset. This requires a reference dataset which is the ground truth;\n",
    "- **Units**: Percentage;\n",
    "- **Related to**: Consistency."
   ]
  },
  {
   "cell_type": "markdown",
   "metadata": {},
   "source": [
    "### Duplication Test\n",
    "For time-series data, it is important to check for duplications, as we typically expect all values to be unique within the dataset.\n",
    "\n",
    "The first thing to check will be if the primary key values within the dataset are unique - in our case, that will be a combination of the stock name and the date.\n",
    "\n",
    "Secondly, we want to check if the entries are all unique, which is done by checking for duplicates across that whole dataset."
   ]
  },
  {
   "cell_type": "markdown",
   "metadata": {},
   "source": [
    "> ℹ️ **Instructions** ℹ️\n",
    ">\n",
    "> Write code to determine if there are any duplicates within the data, and then proceed to correct this by dropping them from the dataframe.\n",
    ">\n",
    ">*You may use as many coding cells as necessary.*"
   ]
  },
  {
   "cell_type": "code",
   "execution_count": 50,
   "metadata": {},
   "outputs": [
    {
     "name": "stdout",
     "output_type": "stream",
     "text": [
      "+----------+-----+-----+\n",
      "|      date|stock|count|\n",
      "+----------+-----+-----+\n",
      "|1962-02-05|  HPQ|    4|\n",
      "|1962-02-23|  HPQ|    4|\n",
      "|1962-02-26|  HPQ|    4|\n",
      "|1962-02-20|  HPQ|    4|\n",
      "|1962-02-08|  HPQ|    4|\n",
      "|1962-02-28|  HPQ|    4|\n",
      "|1962-02-01|  HPQ|    4|\n",
      "|1962-02-07|  HPQ|    4|\n",
      "|1962-02-02|  HPQ|    4|\n",
      "|1962-02-09|  HPQ|    4|\n",
      "|1962-02-06|  HPQ|    4|\n",
      "|1962-02-19|  HPQ|    4|\n",
      "|1962-02-13|  HPQ|    4|\n",
      "|1962-02-27|  HPQ|    4|\n",
      "|1962-02-16|  HPQ|    4|\n",
      "|1962-02-15|  HPQ|    4|\n",
      "|1962-02-14|  HPQ|    4|\n",
      "|1962-02-12|  HPQ|    4|\n",
      "|1962-02-21|  HPQ|    4|\n",
      "|1962-09-06|   ED|    2|\n",
      "+----------+-----+-----+\n",
      "only showing top 20 rows\n",
      "\n"
     ]
    }
   ],
   "source": [
    "#TODO: Write your code here\n",
    "sixty_two_df.groupby(['date', 'stock']) \\\n",
    "  .count() \\\n",
    "  .where('count > 1') \\\n",
    "  .sort('count', ascending=False) \\\n",
    "  .show()"
   ]
  },
  {
   "cell_type": "code",
   "execution_count": 51,
   "metadata": {},
   "outputs": [],
   "source": [
    "sixty_two_df = sixty_two_df.drop_duplicates()"
   ]
  },
  {
   "cell_type": "code",
   "execution_count": 52,
   "metadata": {},
   "outputs": [
    {
     "data": {
      "text/plain": [
       "DataFrame[date: string, open: float, high: double, low: float, close: float, adj_close: float, volume: double, stock: string]"
      ]
     },
     "execution_count": 52,
     "metadata": {},
     "output_type": "execute_result"
    }
   ],
   "source": [
    "sixty_two_df.dropDuplicates()"
   ]
  },
  {
   "cell_type": "code",
   "execution_count": 53,
   "metadata": {},
   "outputs": [
    {
     "name": "stdout",
     "output_type": "stream",
     "text": [
      "+----+-----+-----+\n",
      "|date|stock|count|\n",
      "+----+-----+-----+\n",
      "+----+-----+-----+\n",
      "\n"
     ]
    }
   ],
   "source": [
    "sixty_two_df.groupby(['date', 'stock']) \\\n",
    "  .count() \\\n",
    "  .where('count > 1') \\\n",
    "  .sort('count', ascending=False) \\\n",
    "  .show()"
   ]
  },
  {
   "cell_type": "markdown",
   "metadata": {},
   "source": [
    "## Validity\n",
    "Data is valid if it conforms to the syntax (format, type, range) of its definition.\n",
    "\n",
    "Certain values within a field may have specific criteria required to make it valid, e.g., numerical columns cannot contain alphabetical characters, which can occur due to scientific notation.\n",
    "\n",
    "This can be more difficult to determine in stings, in which case you may have to check using regex. \n",
    "\n",
    "- **Measured by**: Comparison between the data and metadata or documentation for the data item;\n",
    "- **Units**: Percentage of data items deemed Valid or Invalid;\n",
    "- **Related to**: Accuracy, Completeness, Consistency, and Uniqueness."
   ]
  },
  {
   "cell_type": "markdown",
   "metadata": {},
   "source": [
    "We need to first define what we expect from our dataset:\n",
    "\n",
    "- stock: string (nullable = true) => Should be contained in the list of expected tickers\n",
    "- date: date (nullable = true) => Should conform to date format, and be in the past\n",
    "- open: double (nullable = true) => Should be positive or 0\n",
    "- high: double (nullable = true) => Should be positive or 0\n",
    "- low: double (nullable = true) => Should be positive or 0 (should be < high)\n",
    "- close: double (nullable = true) => Should be positive or 0 (should be <= high )\n",
    "- adj_close: double (nullable = true) => Should be positive or 0\n",
    "- volume: integer (nullable = true) => Should be positive or 0\n",
    "- high_avg: double (nullable = true) => Derived (not needed to test)\n",
    "- high_imp: double (nullable = true) => Derived (not needed to test)\n",
    "- day_of_week: string (nullable = true) => Derived (not needed to test)\n",
    "\n",
    "*Is there any other logic that we can incorporate?*"
   ]
  },
  {
   "cell_type": "code",
   "execution_count": 54,
   "metadata": {},
   "outputs": [
    {
     "name": "stdout",
     "output_type": "stream",
     "text": [
      "root\n",
      " |-- date: string (nullable = true)\n",
      " |-- open: float (nullable = true)\n",
      " |-- high: double (nullable = true)\n",
      " |-- low: float (nullable = true)\n",
      " |-- close: float (nullable = true)\n",
      " |-- adj_close: float (nullable = true)\n",
      " |-- volume: double (nullable = true)\n",
      " |-- stock: string (nullable = true)\n",
      "\n"
     ]
    }
   ],
   "source": [
    "sixty_two_df.printSchema()"
   ]
  },
  {
   "cell_type": "markdown",
   "metadata": {},
   "source": [
    "> ℹ️ **Instructions** ℹ️\n",
    ">\n",
    "> Use the metadata to check if all the stocks in your current dataframe are valid. In other words, make sure you have no foreign/unknown tickers in your dataframe.\n",
    ">\n",
    ">*You may use as many coding cells as necessary.*\n"
   ]
  },
  {
   "cell_type": "code",
   "execution_count": 55,
   "metadata": {},
   "outputs": [
    {
     "name": "stdout",
     "output_type": "stream",
     "text": [
      "+-----+-----+\n",
      "|stock|count|\n",
      "+-----+-----+\n",
      "+-----+-----+\n",
      "\n"
     ]
    }
   ],
   "source": [
    "#TODO: Write your code here\n",
    "sixty_two_df.filter(~F.col('stock').isin(symbols_meta.select('Symbol').rdd.flatMap(lambda x: x).collect())).groupby('stock').count().show()"
   ]
  },
  {
   "cell_type": "markdown",
   "metadata": {},
   "source": [
    "> ℹ️ **Instructions** ℹ️\n",
    ">\n",
    ">\n",
    ">Check if the date column contains only valid dates and all dates are in the past.\n",
    ">\n",
    ">*Valid dates should already be checked in the data reading step.*"
   ]
  },
  {
   "cell_type": "code",
   "execution_count": 56,
   "metadata": {},
   "outputs": [
    {
     "name": "stdout",
     "output_type": "stream",
     "text": [
      "root\n",
      " |-- date: string (nullable = true)\n",
      " |-- open: float (nullable = true)\n",
      " |-- high: double (nullable = true)\n",
      " |-- low: float (nullable = true)\n",
      " |-- close: float (nullable = true)\n",
      " |-- adj_close: float (nullable = true)\n",
      " |-- volume: double (nullable = true)\n",
      " |-- stock: string (nullable = true)\n",
      "\n"
     ]
    }
   ],
   "source": [
    "sixty_two_df.printSchema()"
   ]
  },
  {
   "cell_type": "code",
   "execution_count": 57,
   "metadata": {},
   "outputs": [],
   "source": [
    "df_o=sixty_two_df.withColumn('date', F.col('date').cast(TimestampType()))"
   ]
  },
  {
   "cell_type": "code",
   "execution_count": 58,
   "metadata": {},
   "outputs": [
    {
     "data": {
      "text/plain": [
       "0"
      ]
     },
     "execution_count": 58,
     "metadata": {},
     "output_type": "execute_result"
    }
   ],
   "source": [
    "#TODO: Write your code here\n",
    "dtime= datetime.now()\n",
    "dt=dtime.date()\n",
    "df_o.where(F.col('date') > dt).count()\n"
   ]
  },
  {
   "cell_type": "code",
   "execution_count": 59,
   "metadata": {},
   "outputs": [
    {
     "name": "stdout",
     "output_type": "stream",
     "text": [
      "+-------------------+\n",
      "|          max(date)|\n",
      "+-------------------+\n",
      "|1962-12-31 00:00:00|\n",
      "+-------------------+\n",
      "\n"
     ]
    }
   ],
   "source": [
    "df_o.agg({'date': 'max'}).show()"
   ]
  },
  {
   "cell_type": "code",
   "execution_count": 60,
   "metadata": {},
   "outputs": [
    {
     "name": "stdout",
     "output_type": "stream",
     "text": [
      "+-------------------+\n",
      "|          min(date)|\n",
      "+-------------------+\n",
      "|1962-01-02 00:00:00|\n",
      "+-------------------+\n",
      "\n"
     ]
    }
   ],
   "source": [
    "df_o.agg({'date': 'min'}).show()"
   ]
  },
  {
   "cell_type": "markdown",
   "metadata": {},
   "source": [
    "> ℹ️ **Instructions** ℹ️\n",
    ">\n",
    ">Check that all of numerical columns are positive."
   ]
  },
  {
   "cell_type": "code",
   "execution_count": 61,
   "metadata": {},
   "outputs": [
    {
     "name": "stdout",
     "output_type": "stream",
     "text": [
      "Column open has 0 less than 0\n",
      "Column high has 0 less than 0\n",
      "Column low has 0 less than 0\n",
      "Column close has 0 less than 0\n",
      "Column adj_close has 0 less than 0\n",
      "Column volume has 0 less than 0\n",
      "Column stock has 0 less than 0\n"
     ]
    }
   ],
   "source": [
    "#TODO: Uncomment the provided code.\n",
    " \n",
    "# Define the boundary values within which the values are expected to fall.\n",
    "lower_bound = 0\n",
    "#upper_bound = 0.2\n",
    "\n",
    "# Add all the columns except the `date` column to a list.\n",
    "numerics = [x for x in sixty_two_df.columns if x not in 'date']\n",
    "\n",
    "for numeric in numerics: #iterate through the numeric columns\n",
    "    count_lower = sixty_two_df.filter(sixty_two_df[numeric] < lower_bound).count()# count the number of values less than the lower bound\n",
    "    #count_greater = df.filter(df[numeric] > upper_bound).count()# count the number of values greater than the upper bound\n",
    "    print(f'Column {numeric} has {count_lower} less than {lower_bound}')"
   ]
  },
  {
   "cell_type": "markdown",
   "metadata": {},
   "source": [
    "### Save Updates\n",
    "\n",
    "With our initial work of checking the various dimensions of the data quality completed, we can now save these results to a CSV file.  "
   ]
  },
  {
   "cell_type": "code",
   "execution_count": 62,
   "metadata": {},
   "outputs": [],
   "source": [
    "pd_df = sixty_two_df.toPandas()"
   ]
  },
  {
   "cell_type": "code",
   "execution_count": 63,
   "metadata": {},
   "outputs": [],
   "source": [
    "pd_df.to_csv('./onidajo_wale-olaitan_data_profiling.csv')"
   ]
  }
 ],
 "metadata": {
  "kernelspec": {
   "display_name": "Python 3",
   "language": "python",
   "name": "python3"
  },
  "language_info": {
   "codemirror_mode": {
    "name": "ipython",
    "version": 3
   },
   "file_extension": ".py",
   "mimetype": "text/x-python",
   "name": "python",
   "nbconvert_exporter": "python",
   "pygments_lexer": "ipython3",
   "version": "3.8.13"
  },
  "vscode": {
   "interpreter": {
    "hash": "52d90d3cc821dd0beedd6e719dbdecc722c226b9d90ed1b663c34e1877f1142e"
   }
  }
 },
 "nbformat": 4,
 "nbformat_minor": 2
}
